{
 "cells": [
  {
   "cell_type": "markdown",
   "id": "31b22581",
   "metadata": {},
   "source": [
    "# Section 0 - Python Basics"
   ]
  },
  {
   "cell_type": "markdown",
   "id": "00d75471",
   "metadata": {},
   "source": [
    "## Jupyter notebook intro\n",
    "\n",
    "* this document is a jupyter notebook\n",
    "* flexible tool to create readable documents that embeds:\n",
    "    * code\n",
    "    * images\n",
    "    * comments\n",
    "    * formulas\n",
    "    * plots\n",
    "* jupyter supports notebooks form many different languages (including python, julia and R) \n",
    "* each document runs a computational engine that executes the code written in the cells"
   ]
  },
  {
   "cell_type": "markdown",
   "id": "92bda2c5",
   "metadata": {},
   "source": [
    "> <mark>To get some help, press ``H`` when in **COMMAND MODE**</mark>"
   ]
  },
  {
   "cell_type": "markdown",
   "id": "d778d11f",
   "metadata": {},
   "source": [
    "Built-in magic commands in jupyter\n",
    "\n",
    "    jupyter embeds special commands (called magics) that enables to run different kind of code.\n",
    "        magic inline commands start with \"%\"\n",
    "        magic multiple line commands start with \"%%\"\n",
    "        you can list magic commands running %lsmagic\n",
    "        you can pop-up the magic command documentation (if any) adding \"?\" after the command with no space\n",
    "    few magics you might find useful:\n",
    "        ! runs inline shell commands\n",
    "        %%bash to run bash program (same syntax for other languages)\n",
    "        embed latex inline between $$\n",
    "        %%latex to render a latex block\n",
    "        ...\n",
    "        %reset to remove all names defined by the user\n"
   ]
  },
  {
   "cell_type": "code",
   "execution_count": null,
   "id": "223338cc",
   "metadata": {},
   "outputs": [],
   "source": [
    "%lsmagic"
   ]
  },
  {
   "cell_type": "code",
   "execution_count": null,
   "id": "ec603026",
   "metadata": {},
   "outputs": [],
   "source": [
    "!ls -lrth ../exercise1_bash/"
   ]
  },
  {
   "cell_type": "code",
   "execution_count": null,
   "id": "3f689373",
   "metadata": {},
   "outputs": [],
   "source": [
    "%%bash \n",
    "for i in $(ls ../exercise1_bash/bandpasses)\n",
    "do \n",
    "    arr=($(echo $i | tr '.' ' '))\n",
    "    echo -n ${arr[0]} ' '\n",
    "done"
   ]
  },
  {
   "cell_type": "code",
   "execution_count": null,
   "id": "2ced64a2",
   "metadata": {},
   "outputs": [],
   "source": [
    "!ls  ../exercise1_bash/bandpasses | grep ALMA"
   ]
  },
  {
   "cell_type": "markdown",
   "id": "8e6dd6b1",
   "metadata": {},
   "source": [
    "## The interpreter\n",
    "\n",
    "* Compile source to bytecode then execute it on a virtual machine \n",
    "* Survives any execution error, even in case of syntax errors\n",
    "    * in python also indentation is syntax\n",
    "    ```python\n",
    "    # this:\n",
    "    if True :\n",
    "        print('hello')\n",
    "        print('world')\n",
    "    # is different from this:\n",
    "    if False :\n",
    "        print('hello')\n",
    "    print('world')\n",
    "    ```\n",
    "* an *expression* is code that returns an object \n",
    "* if no error, the prompt (``>>>``) automatically: \n",
    "    1. prints the result on screen\n",
    "    2. assigns the result to \"_\""
   ]
  },
  {
   "cell_type": "code",
   "execution_count": null,
   "id": "65319a5b",
   "metadata": {},
   "outputs": [],
   "source": [
    "# expression that returns something\n",
    "12345"
   ]
  },
  {
   "cell_type": "code",
   "execution_count": null,
   "id": "8be1a9c2",
   "metadata": {},
   "outputs": [],
   "source": [
    "# that something was assigned to \"_\"\n",
    "_"
   ]
  },
  {
   "cell_type": "code",
   "execution_count": null,
   "id": "320e4630",
   "metadata": {},
   "outputs": [],
   "source": [
    "# Error example: division by 0\n",
    "1/0"
   ]
  },
  {
   "cell_type": "code",
   "execution_count": null,
   "id": "5a2b4dbe",
   "metadata": {},
   "outputs": [],
   "source": [
    "print = 7"
   ]
  },
  {
   "cell_type": "markdown",
   "id": "86f3b9ab",
   "metadata": {},
   "source": [
    "Print is a function, but you can assign it a value! **Congrats** you succesfully overwritten a function with an integer: now your function does not work anymore:"
   ]
  },
  {
   "cell_type": "code",
   "execution_count": null,
   "id": "bbaf1ddd",
   "metadata": {},
   "outputs": [],
   "source": [
    "print(\"hello world\")"
   ]
  },
  {
   "cell_type": "markdown",
   "id": "9e2f6e1d",
   "metadata": {},
   "source": [
    "This magic command (`%reset`) clears everything, it will ask you if your sure about your decision.\n",
    "(kinda equivalent to *restart kernel*)"
   ]
  },
  {
   "cell_type": "code",
   "execution_count": null,
   "id": "9024b127",
   "metadata": {},
   "outputs": [],
   "source": [
    "%reset\n",
    "print(\"hello world\")"
   ]
  },
  {
   "cell_type": "code",
   "execution_count": null,
   "id": "ae30a1a7",
   "metadata": {},
   "outputs": [],
   "source": [
    "print(42)"
   ]
  },
  {
   "cell_type": "markdown",
   "id": "5567532e",
   "metadata": {},
   "source": [
    "## Programming in Python\n",
    "\n",
    "  * A **computer program** is a set of instructions meant to guide the computer hardware\n",
    "    in doing calculations, by using the computing processing unit (CPU)\n",
    "    and the memory\n",
    "  * A program is structured accoding to **rules dictated by the programming language**\n",
    "  * In this brief introduction we will see the **main elements** to be used to build a Python program\n",
    "  \n",
    "  | Main elements:        ||\n",
    "  |-----------------------|------------------------------------------------------------------------|\n",
    "  | **variables**         | write information into the computer memory and read it back            |\n",
    "  | **functions**         | groups of sequences of elementary instructions into a repeatable block |\n",
    "  | **control sequences** | fundamental structures to handle sequences of elementary instructions (choices, iterations) |\n",
    "  | **modules**           | libraries of fully-developed tools to implement specific behaviours    |\n",
    "  | **classes** | definition of a type and its methods |\n",
    "  "
   ]
  },
  {
   "cell_type": "markdown",
   "id": "29850b83",
   "metadata": {},
   "source": [
    "## Variables\n",
    "\n",
    "Information needs to be **handled according to its nature**, in terms of occupied memory space and elementary operations\n",
    "    \n",
    "| Variable Type | Usage |\n",
    "|---------------|-------|\n",
    "| integer | ``a = 42`` |\n",
    "| floating point | ``a = 3.14`` |\n",
    "| complex | ``a = 3 + 2j`` |\n",
    "| boolean | ``a = True`` |\n",
    "| string | ``a = 'filename.txt'`` |\n",
    "| ``None`` | whenever the object is not defined |\n",
    "    \n",
    "    \n",
    "> **NOTE** For a detailed list and description of built-in Python types see the [official Python documentation](https://docs.python.org/3/library/stdtypes.html#)\n",
    "\n",
    "\n",
    "> **SECOND NOTE** Python is **not statically typed**: variables do not need to be declared before use, nor their type to be declared, but you can use the [`type`](https://docs.python.org/3/library/functions.html#type) built-in function to know what is the current type of the object"
   ]
  },
  {
   "cell_type": "code",
   "execution_count": null,
   "id": "068d8388",
   "metadata": {},
   "outputs": [],
   "source": [
    "a=42"
   ]
  },
  {
   "cell_type": "markdown",
   "id": "2e2f8e58",
   "metadata": {},
   "source": [
    "## Survival kit\n",
    " - `print`\n",
    " - `type`\n",
    " - `help`\n",
    " - `dir`"
   ]
  },
  {
   "cell_type": "code",
   "execution_count": null,
   "id": "d1bbbedc",
   "metadata": {},
   "outputs": [],
   "source": [
    "print(\"hello\", \"world\")"
   ]
  },
  {
   "cell_type": "markdown",
   "id": "017dc959",
   "metadata": {},
   "source": [
    "A **variable** is just a **reference** to an object, what object? find out with command `type`:"
   ]
  },
  {
   "cell_type": "code",
   "execution_count": null,
   "id": "64930a25",
   "metadata": {},
   "outputs": [],
   "source": [
    "print(type(\"hello\"))\n",
    "print(type(1))\n",
    "print(type(True))"
   ]
  },
  {
   "cell_type": "markdown",
   "id": "10d38410",
   "metadata": {},
   "source": [
    "What's the type of `type`?"
   ]
  },
  {
   "cell_type": "code",
   "execution_count": null,
   "id": "9956e647",
   "metadata": {},
   "outputs": [],
   "source": [
    "print(type(type))"
   ]
  },
  {
   "cell_type": "markdown",
   "id": "ffd2850d",
   "metadata": {},
   "source": [
    "<mark>**Dunder methods**</mark> are **magic methods** of a certain class that are defined with a **double underscore**, you can see them in the class documentation of a certain object:"
   ]
  },
  {
   "cell_type": "code",
   "execution_count": null,
   "id": "092c2473",
   "metadata": {},
   "outputs": [],
   "source": [
    "help(1)"
   ]
  },
  {
   "cell_type": "code",
   "execution_count": null,
   "id": "76dc4864",
   "metadata": {},
   "outputs": [],
   "source": [
    "help(a.__gt__)"
   ]
  },
  {
   "cell_type": "code",
   "execution_count": null,
   "id": "2afaf912",
   "metadata": {},
   "outputs": [],
   "source": [
    "help(None)"
   ]
  },
  {
   "cell_type": "markdown",
   "id": "aae884c5",
   "metadata": {},
   "source": [
    "`dir` will tell you all the symbols known by python up to that moment:"
   ]
  },
  {
   "cell_type": "code",
   "execution_count": null,
   "id": "d1a81e9b",
   "metadata": {},
   "outputs": [],
   "source": [
    "IIII = 1\n",
    "FFFF = 3.3\n",
    "SSSS = 'cc'\n",
    "BBBB = False\n",
    "\n",
    "print(dir())"
   ]
  },
  {
   "cell_type": "markdown",
   "id": "0dddcd49",
   "metadata": {},
   "source": [
    "While if you ask the methods defined for a certain class (in this case an integer, `1`), just call `dir(class)`:"
   ]
  },
  {
   "cell_type": "code",
   "execution_count": null,
   "id": "71eaed10",
   "metadata": {},
   "outputs": [],
   "source": [
    "print(dir(1))"
   ]
  },
  {
   "cell_type": "code",
   "execution_count": null,
   "id": "47983fde",
   "metadata": {},
   "outputs": [],
   "source": [
    "a = 4"
   ]
  },
  {
   "cell_type": "code",
   "execution_count": null,
   "id": "db0c5cca",
   "metadata": {},
   "outputs": [],
   "source": [
    "help(a.denominator)"
   ]
  },
  {
   "cell_type": "code",
   "execution_count": null,
   "id": "d5002311",
   "metadata": {},
   "outputs": [],
   "source": []
  }
 ],
 "metadata": {
  "kernelspec": {
   "display_name": "Python 3 (ipykernel)",
   "language": "python",
   "name": "python3"
  },
  "language_info": {
   "codemirror_mode": {
    "name": "ipython",
    "version": 3
   },
   "file_extension": ".py",
   "mimetype": "text/x-python",
   "name": "python",
   "nbconvert_exporter": "python",
   "pygments_lexer": "ipython3",
   "version": "3.10.10"
  }
 },
 "nbformat": 4,
 "nbformat_minor": 5
}
