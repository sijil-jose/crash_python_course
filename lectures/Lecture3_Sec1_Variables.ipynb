{
 "cells": [
  {
   "cell_type": "markdown",
   "id": "29850b83",
   "metadata": {},
   "source": [
    "# Section 1 - Variables\n",
    "\n",
    "Information needs to be **handled according to its nature**, in terms of occupied memory space and elementary operations\n",
    "    \n",
    "| Variable Type | Usage |\n",
    "|---------------|-------|\n",
    "| integer | ``a = 42`` |\n",
    "| floating point | ``a = 3.14`` |\n",
    "| complex | ``a = 3 + 2j`` |\n",
    "| boolean | ``a = True`` |\n",
    "| string | ``a = 'filename.txt'`` |\n",
    "| ``None`` | whenever the object is not defined |\n",
    "    \n",
    "    \n",
    "> **NOTE** For a detailed list and description of built-in Python types see the [official Python documentation](https://docs.python.org/3/library/stdtypes.html#)\n",
    "\n",
    "\n",
    "> **SECOND NOTE** Python is **not statically typed**: variables do not need to be declared before use, nor their type to be declared, but you can use the [`type`](https://docs.python.org/3/library/functions.html#type) built-in function to know what is the current type of the object"
   ]
  },
  {
   "cell_type": "markdown",
   "id": "6fb794a6",
   "metadata": {},
   "source": [
    "## Numbers"
   ]
  },
  {
   "cell_type": "markdown",
   "id": "858d8907",
   "metadata": {},
   "source": [
    "* **Integers** can take up to any positive or negative number in an unlimited range \n",
    "    (subject to the available virtual memory)."
   ]
  },
  {
   "cell_type": "code",
   "execution_count": null,
   "id": "76569871",
   "metadata": {},
   "outputs": [],
   "source": [
    "a = 4\n",
    "type(a)"
   ]
  },
  {
   "cell_type": "markdown",
   "id": "b951091d",
   "metadata": {},
   "source": [
    "* **Floating point** numbers are implemented as <mark>double precision</mark> \n",
    "    (i.e. they occupy 8 bytes instead of 4 bytes in memory: $\\pm1.7\\times 10^{\\pm308}$ with 15 digits)."
   ]
  },
  {
   "cell_type": "code",
   "execution_count": null,
   "id": "5dbfe5ee",
   "metadata": {},
   "outputs": [],
   "source": [
    "b = 5.\n",
    "type(b)"
   ]
  },
  {
   "cell_type": "markdown",
   "id": "ea4e6112",
   "metadata": {},
   "source": [
    "* **Complex numbers** have a real and imaginary part, which are a floating point number each."
   ]
  },
  {
   "cell_type": "code",
   "execution_count": null,
   "id": "6ad64077",
   "metadata": {},
   "outputs": [],
   "source": [
    "c = 4 + 5j\n",
    "type(c)"
   ]
  },
  {
   "cell_type": "markdown",
   "id": "0d3ab66e",
   "metadata": {},
   "source": [
    "Note that a number is automatically interpreted as imaginary by adding `j` (or `J`) to its value"
   ]
  },
  {
   "cell_type": "code",
   "execution_count": null,
   "id": "dae2e8a0",
   "metadata": {},
   "outputs": [],
   "source": [
    "i = 4j\n",
    "type(i)"
   ]
  },
  {
   "cell_type": "markdown",
   "id": "6b7351a0",
   "metadata": {},
   "source": [
    "* If needed, the functions (called constructors) `int()`, `float()`, and `complex()` can be used \n",
    "  to **generate numbers of specific type**"
   ]
  },
  {
   "cell_type": "code",
   "execution_count": null,
   "id": "00837b47",
   "metadata": {},
   "outputs": [],
   "source": [
    "a = float(42)\n",
    "type(a), a"
   ]
  },
  {
   "cell_type": "markdown",
   "id": "01fef2fc",
   "metadata": {},
   "source": [
    "or to **cast** a variable of one type to another"
   ]
  },
  {
   "cell_type": "code",
   "execution_count": null,
   "id": "fc76f89d",
   "metadata": {},
   "outputs": [],
   "source": [
    "b = int(a)\n",
    "type(b), b"
   ]
  },
  {
   "cell_type": "markdown",
   "id": "93e5eb68",
   "metadata": {},
   "source": [
    "## Booleans\n",
    "\n",
    "**Booleans** are variables that can only take the value `True` or `False`\n",
    "  \n",
    "* They support the **logical operators** `or`, `and` and `not`\n",
    "\n",
    "| Operation | Result |\n",
    "|-----------|--------|\n",
    "| ``x or y``  | if ``x`` is true, then ``x`` , else ``y`` |\n",
    "| ``x and y`` | if ``x`` is false, then ``x``, else ``y`` |\n",
    "| ``not x`` | if ``x`` is false, then ``True``, else ``False`` |\n",
    "\n",
    "* the **result of a comparison** is a boolean"
   ]
  },
  {
   "cell_type": "code",
   "execution_count": null,
   "id": "5c5bc008",
   "metadata": {},
   "outputs": [],
   "source": [
    "5 > 3"
   ]
  },
  {
   "cell_type": "code",
   "execution_count": null,
   "id": "dcbcd643",
   "metadata": {},
   "outputs": [],
   "source": [
    "5 * 3 > 20"
   ]
  },
  {
   "cell_type": "markdown",
   "id": "72b46c64",
   "metadata": {},
   "source": [
    "**Comparison Operators in Python**\n",
    "| Operation | Meaning | Dunder |\n",
    "|-----------|---------|--------|\n",
    "| ``<`` | strictly less than | ``__lt__`` |\n",
    "| ``<=`` | less than or equal | ``__le__`` |\n",
    "| ``>`` | strictly greater than | ``__gt__`` |\n",
    "| ``>=`` | greater than or equal | ``__ge__`` |\n",
    "| ``==`` | equal | ``__eq__`` |\n",
    "| ``!=`` | not equal | ``__ne__`` |\n",
    "| ``is`` | object identity | not needed |\n",
    "| ``is not`` | negated object identity | not needed | "
   ]
  },
  {
   "cell_type": "markdown",
   "id": "3b6c1662",
   "metadata": {},
   "source": [
    "* **Different operations**, when not ordered with parentheses,\n",
    "    **have different priority** as determined by the programming language\n",
    "* The **comparison** has lower priority than mathematical operations, \n",
    "    but higher than the logical ones"
   ]
  },
  {
   "cell_type": "markdown",
   "id": "ddab5e4e",
   "metadata": {},
   "source": [
    "* Finally, `not` has a lower priority than non-Boolean operators, \n",
    "      so `not a == b` is interpreted as `not (a == b)`, and `a == not b` is a syntax error."
   ]
  },
  {
   "cell_type": "code",
   "execution_count": null,
   "id": "f6e90b74",
   "metadata": {},
   "outputs": [],
   "source": [
    "5*3>20 and 5>3"
   ]
  },
  {
   "cell_type": "code",
   "execution_count": null,
   "id": "8c885f75",
   "metadata": {},
   "outputs": [],
   "source": [
    "f=None\n",
    "if f is not None and f*3 > -1 :\n",
    "    print('ok!')"
   ]
  },
  {
   "cell_type": "markdown",
   "id": "d6182f95",
   "metadata": {},
   "source": [
    "## Strings\n",
    "\n",
    "**Textual data** in Python is handled with `str` objects, or *strings*.\n",
    "Strings are **written** in a variety of ways:\n",
    "* single quotes: `'allows embedded \"double\" quotes'`\n",
    "* double quotes: `\"allows embedded 'single' quotes\"`\n",
    "* triple quotes: `'''Three single quotes'''`, `\"\"\"Three double quotes\"\"\"`\n",
    "Triple quote strings may span multiple lines - all associated whitespaces will be included in the string literal."
   ]
  },
  {
   "cell_type": "code",
   "execution_count": null,
   "id": "4bec8685",
   "metadata": {},
   "outputs": [],
   "source": [
    "'my single quote string'"
   ]
  },
  {
   "cell_type": "code",
   "execution_count": null,
   "id": "725c44e4",
   "metadata": {},
   "outputs": [],
   "source": [
    "\"my double quote string\""
   ]
  },
  {
   "cell_type": "code",
   "execution_count": null,
   "id": "cc14edc4",
   "metadata": {},
   "outputs": [],
   "source": [
    "\"\"\"my triple quote string\"\"\""
   ]
  },
  {
   "cell_type": "code",
   "execution_count": null,
   "id": "6f98ac44",
   "metadata": {},
   "outputs": [],
   "source": [
    "s=\"\"\"my triple quote string\n",
    "\\tspanning multiple\n",
    "lines\"\"\"\n",
    "print(s)"
   ]
  },
  {
   "cell_type": "markdown",
   "id": "ef2442f3",
   "metadata": {},
   "source": [
    "> **NOTE THAT** A string is a <mark>list of characters</mark>, when spanning multiple lines the corresponding Unicode character `\\n` for the new line is added to the list"
   ]
  },
  {
   "cell_type": "code",
   "execution_count": null,
   "id": "1f1d9618",
   "metadata": {},
   "outputs": [],
   "source": [
    "s = 'hello world'\n",
    "s[4]"
   ]
  },
  {
   "cell_type": "markdown",
   "id": "8eb2d19c",
   "metadata": {},
   "source": [
    "## `None`\n",
    "\n",
    "* It represents a **null value, or no value at all**\n",
    "* **Different from all other types** (e.g. it's not `True`, nor `False`)\n",
    "* It indicates that **the object is not defined** and therefore occupies no space in memory.\n",
    "    Any operation between an object that is `None` and another one returns into an error."
   ]
  },
  {
   "cell_type": "code",
   "execution_count": null,
   "id": "64283865",
   "metadata": {},
   "outputs": [],
   "source": [
    "a = None\n",
    "type(a)"
   ]
  },
  {
   "cell_type": "code",
   "execution_count": null,
   "id": "888578ad",
   "metadata": {},
   "outputs": [],
   "source": [
    "a*2"
   ]
  },
  {
   "cell_type": "code",
   "execution_count": null,
   "id": "dce5d4ce",
   "metadata": {},
   "outputs": [],
   "source": [
    "a is None"
   ]
  },
  {
   "cell_type": "code",
   "execution_count": null,
   "id": "6ab242b8",
   "metadata": {},
   "outputs": [],
   "source": []
  }
 ],
 "metadata": {
  "kernelspec": {
   "display_name": "Python 3 (ipykernel)",
   "language": "python",
   "name": "python3"
  },
  "language_info": {
   "codemirror_mode": {
    "name": "ipython",
    "version": 3
   },
   "file_extension": ".py",
   "mimetype": "text/x-python",
   "name": "python",
   "nbconvert_exporter": "python",
   "pygments_lexer": "ipython3",
   "version": "3.10.10"
  }
 },
 "nbformat": 4,
 "nbformat_minor": 5
}
