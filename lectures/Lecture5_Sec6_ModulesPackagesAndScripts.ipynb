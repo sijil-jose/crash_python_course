{
 "cells": [
  {
   "cell_type": "markdown",
   "id": "d92ad10f",
   "metadata": {},
   "source": [
    "# Section 6 - Modules, Packages and Scripts\n",
    "\n",
    "* Collections of functions to be used in many programs may be collected in packages or modules that can be imported in scripts\n",
    "\n",
    "### modules are just `.py` files (with python code)"
   ]
  },
  {
   "cell_type": "code",
   "execution_count": null,
   "id": "c0c4d916",
   "metadata": {},
   "outputs": [],
   "source": [
    "!cat my_module.py"
   ]
  },
  {
   "cell_type": "code",
   "execution_count": null,
   "id": "20414d84",
   "metadata": {},
   "outputs": [],
   "source": [
    "import my_module"
   ]
  },
  {
   "cell_type": "code",
   "execution_count": null,
   "id": "01133ab4",
   "metadata": {},
   "outputs": [],
   "source": [
    "#erases already defined variables\n",
    "%reset -f\n",
    "import my_module\n",
    "my_module.foo()\n",
    "my_module.bar()\n",
    "# foo() # error"
   ]
  },
  {
   "cell_type": "code",
   "execution_count": null,
   "id": "36dafc49",
   "metadata": {},
   "outputs": [],
   "source": [
    "%reset -f\n",
    "from my_module import foo\n",
    "foo()\n",
    "# bar() # error, not defined"
   ]
  },
  {
   "cell_type": "code",
   "execution_count": null,
   "id": "9115c57c",
   "metadata": {},
   "outputs": [],
   "source": [
    "%reset -f\n",
    "import my_module as mm\n",
    "mm.foo()\n",
    "mm.bar()"
   ]
  },
  {
   "cell_type": "code",
   "execution_count": null,
   "id": "5d5a4fbc",
   "metadata": {},
   "outputs": [],
   "source": [
    "%reset -f\n",
    "from my_module import *\n",
    "foo()\n",
    "bar()"
   ]
  },
  {
   "cell_type": "code",
   "execution_count": null,
   "id": "5e4f3370",
   "metadata": {},
   "outputs": [],
   "source": [
    "%reset -f\n",
    "from my_module import foo as alternative_name_for_foo\n",
    "alternative_name_for_foo()"
   ]
  },
  {
   "cell_type": "markdown",
   "id": "11d7511a",
   "metadata": {},
   "source": [
    "### where are the python modules?"
   ]
  },
  {
   "cell_type": "code",
   "execution_count": null,
   "id": "e75b1546",
   "metadata": {},
   "outputs": [],
   "source": [
    "import sys\n",
    "print(sys.path)"
   ]
  },
  {
   "cell_type": "markdown",
   "id": "74572e69",
   "metadata": {},
   "source": [
    "### more modules can be added through the environment variable `PYTHONPATH`"
   ]
  },
  {
   "cell_type": "markdown",
   "id": "0e1f3e8b",
   "metadata": {},
   "source": [
    "## How can I organize modules? Packages"
   ]
  },
  {
   "cell_type": "code",
   "execution_count": null,
   "id": "c783de9e",
   "metadata": {},
   "outputs": [],
   "source": [
    "!tree my_package/"
   ]
  },
  {
   "cell_type": "code",
   "execution_count": null,
   "id": "b878ffed",
   "metadata": {},
   "outputs": [],
   "source": [
    "!cat my_package/__init__.py"
   ]
  },
  {
   "cell_type": "markdown",
   "id": "c68d231d",
   "metadata": {},
   "source": [
    "> **NOTE** that it is the existence of the ``__init__.py`` file that makes a directory a python package."
   ]
  },
  {
   "cell_type": "markdown",
   "id": "7c8f2d3c",
   "metadata": {},
   "source": [
    "### it is good practice to not import packages!!!!"
   ]
  },
  {
   "cell_type": "code",
   "execution_count": null,
   "id": "ced77731",
   "metadata": {},
   "outputs": [],
   "source": [
    "import my_package\n",
    "my_package.foo_module.foo()"
   ]
  },
  {
   "cell_type": "markdown",
   "id": "bbf87837",
   "metadata": {},
   "source": [
    "### it is better to import the modules in the package"
   ]
  },
  {
   "cell_type": "code",
   "execution_count": null,
   "id": "e40caaa8",
   "metadata": {},
   "outputs": [],
   "source": [
    "%reset -f\n",
    "import my_package.foo_module # import submodule\n",
    "import my_package.bar_module\n",
    "my_package.foo_module.foo()\n",
    "my_package.bar_module.bar()"
   ]
  },
  {
   "cell_type": "code",
   "execution_count": null,
   "id": "ff562357",
   "metadata": {},
   "outputs": [],
   "source": [
    "%reset -f\n",
    "from my_package import foo_module,bar_module\n",
    "foo_module.foo()\n",
    "bar_module.bar()"
   ]
  },
  {
   "cell_type": "markdown",
   "id": "aaef4369",
   "metadata": {},
   "source": [
    "### or you could import _everything_ from the package"
   ]
  },
  {
   "cell_type": "code",
   "execution_count": null,
   "id": "a843987e",
   "metadata": {},
   "outputs": [],
   "source": [
    "%reset -f\n",
    "from my_package import *\n",
    "foo_module.foo()\n",
    "bar_module.bar()"
   ]
  },
  {
   "cell_type": "markdown",
   "id": "6b505fbe",
   "metadata": {},
   "source": [
    "what is **everything**? typically, all the variables defined in the package/module"
   ]
  },
  {
   "cell_type": "code",
   "execution_count": null,
   "id": "dea5b75f",
   "metadata": {},
   "outputs": [],
   "source": [
    "%reset -f\n",
    "from my_package.foo_module import *\n",
    "foo()"
   ]
  },
  {
   "cell_type": "markdown",
   "id": "50256197",
   "metadata": {},
   "source": [
    "### even better is to assign aliases to the modules (and packages) you are importing"
   ]
  },
  {
   "cell_type": "code",
   "execution_count": null,
   "id": "0545d41a",
   "metadata": {},
   "outputs": [],
   "source": [
    "%reset -f\n",
    "from my_package import foo_module as  f\n",
    "from my_package import bar_module as  b\n",
    "f.foo()\n",
    "b.bar()"
   ]
  },
  {
   "cell_type": "markdown",
   "id": "c61bc6a1",
   "metadata": {},
   "source": [
    "## An example\n",
    "\n",
    "Let's say I have written a python module, named ``get_sqrt.py``, as follows\n",
    "\n",
    "```python\n",
    "import sys\n",
    "\n",
    "def sqrt_safe(x : 'float>0.0') -> float:\n",
    "    \"\"\"Computes the squared root of a number,\n",
    "    accounting for negative numbers.\n",
    "    \n",
    "    Parameters\n",
    "    ----------\n",
    "    x : float\n",
    "        a number\n",
    "        \n",
    "    Returns\n",
    "    -------\n",
    "    : float\n",
    "        the square root of a number\n",
    "    \"\"\"\n",
    "    from math import sqrt\n",
    "    if x < 0.0 :\n",
    "        return sqrt(-x) * 1j\n",
    "    else :\n",
    "        return sqrt(x)\n",
    "    \n",
    "    \n",
    "if __name__ == \"__main__\" :\n",
    "    x = sys.argv[1]\n",
    "    print(sqrt_safe(x))\n",
    "```\n",
    "\n",
    "From the command line I could use it as a script, like this\n",
    "\n",
    "```bash\n",
    "$ python get_sqrt.py 4\n",
    "2\n",
    "$ python get_sqrt.py -4\n",
    "2j\n",
    "```\n",
    "\n",
    "But I could also use it as a module from some other script or interactive python instance:\n",
    "\n",
    "```python\n",
    "from get_sqrt import sqrt_safe as sqrt\n",
    "a = -4\n",
    "b = sqrt(a)\n",
    "```\n",
    "\n",
    "### Why? How?\n",
    "\n",
    "The difference between modules and scripts is _subtle_ in python. \n",
    "\n",
    "When I execute a script or load a module, the same operation is done:\n",
    "**everything that is at the lowest level of indentation is executed**\n",
    "\n",
    "The difference in the two actions is that, in case we execute the file as a script, this lowest level of indentation is assigned a name (stored in the ``__name__`` default variable) that will be ``'__main__'`` (it's a string).\n",
    "On the other hand, if we load the file as a module, the name assigned will be the name of the module itself.\n",
    "\n",
    "You can do some experiments with something like this:\n",
    "```python\n",
    "def func () :\n",
    "    print('doing nothing')\n",
    "\n",
    "print(__name__)\n",
    "if __name__ == '__main__' :\n",
    "    func()\n",
    "```\n",
    "\n",
    "Save this in a ``mod.py`` file and try to **import** it or **execute** it, see the difference."
   ]
  }
 ],
 "metadata": {
  "kernelspec": {
   "display_name": "Python 3 (ipykernel)",
   "language": "python",
   "name": "python3"
  },
  "language_info": {
   "codemirror_mode": {
    "name": "ipython",
    "version": 3
   },
   "file_extension": ".py",
   "mimetype": "text/x-python",
   "name": "python",
   "nbconvert_exporter": "python",
   "pygments_lexer": "ipython3",
   "version": "3.10.10"
  }
 },
 "nbformat": 4,
 "nbformat_minor": 5
}
