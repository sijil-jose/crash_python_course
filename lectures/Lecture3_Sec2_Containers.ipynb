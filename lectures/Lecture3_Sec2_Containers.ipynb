{
 "cells": [
  {
   "cell_type": "markdown",
   "id": "73eda30d",
   "metadata": {},
   "source": [
    "# Section 2 - Containers\n",
    "\n",
    "Are the python version of **data structures**\n",
    " \n",
    "* Single variables may be **collected in containers**\n",
    "* Containers are **by themselves variable types**\n",
    "    * Therefore, **containers of containers** may be built\n",
    "* **Different types** of containers exist, depending on the **behaviour needed**\n",
    "    when handling the collection of variables\n",
    "\n",
    "The Python built-in containers are\n",
    "\n",
    "| Container | Use | Example |\n",
    "|-----------|-----|---------|\n",
    "| [list](https://docs.python.org/3/tutorial/datastructures.html#more-on-lists) | ordered, changeable, allows duplicates, items are indexed | `[1, 2, 3]` |\n",
    "| [tuple](https://docs.python.org/3/tutorial/datastructures.html#tuples-and-sequences) | ordered, unchangeable, allows duplicates, items are indexed | `(1, 2, 3)` |\n",
    "| [set](https://docs.python.org/3/tutorial/datastructures.html#sets) | unordered, unchangeable, does not allow duplicate values | `{1, 2, 3}` | \n",
    "| [dictionary](https://docs.python.org/3/tutorial/datastructures.html#dictionaries) | items are presented in `key:value` pairs, ordered (in the `key`), changeable, does not allow duplicated `key`s | `{'a':1, 'b':2, 'c':3}` |\n",
    "\n",
    "> **Note that** the term **ordered** means that the order in which elements are inserted is mantained un-changed.\n",
    "\n",
    "> **Note also that** dictionaries are ordered only since `python>=3.7`"
   ]
  },
  {
   "cell_type": "markdown",
   "id": "c8bfe47d",
   "metadata": {},
   "source": [
    "## Section 2.0 - Python memory handling\n",
    "\n",
    "* When creating a new variable or assigning a value to it, **three steps** comceptually take place:\n",
    "    1. **Create in memory an object** to contain the value assigned\n",
    "    2. **Create the Python variable** (if not existing)\n",
    "    3. **Link the variable** to the new object\n",
    "    \n",
    "* Threfore, **all variables are references** to the actual objects saved in memory\n",
    "* Variables are classified in **two main categories**:\n",
    "    * **immutable objects** cannot be changed in place\n",
    "    * **mutable objects** may be changed in place\n",
    "    \n",
    "| mutable | immutable |\n",
    "|---------|-----------|\n",
    "| lists, sets, user-defined classes, dictionaries | int, float, bool, string, tuple |\n",
    "\n",
    "When a new value is assigned to an immutable variable, the variable itself changes the object it points to."
   ]
  },
  {
   "cell_type": "code",
   "execution_count": null,
   "id": "b997db12",
   "metadata": {},
   "outputs": [],
   "source": [
    "a = 42\n",
    "pa = id(a)\n",
    "pa"
   ]
  },
  {
   "cell_type": "code",
   "execution_count": null,
   "id": "8e310a32",
   "metadata": {},
   "outputs": [],
   "source": [
    "a += 3\n",
    "pa == id(a)"
   ]
  },
  {
   "cell_type": "markdown",
   "id": "6fa0e6f9",
   "metadata": {},
   "source": [
    "* When **a mutable variable is passed to a function**, any modifications done inside the function propagate outside the function, to the scope where the function is called from\n",
    "* When **an immutable variable is passed to a function**, modifications do not affect the variable outside the function"
   ]
  },
  {
   "cell_type": "markdown",
   "id": "22779994",
   "metadata": {},
   "source": [
    "## Section 2.1 - Lists\n",
    "\n",
    "Mutable **sequences of objects**, typically used to store collections of objects, not necessarily homogeneous.\n",
    "\n",
    "Lists can be **constructed in several ways**:\n",
    "\n",
    "* with **squared brackets**"
   ]
  },
  {
   "cell_type": "code",
   "execution_count": null,
   "id": "d22e7094",
   "metadata": {},
   "outputs": [],
   "source": [
    "l1 = [] \n",
    "l2 = [ 42, \"hello\", 1.e+12 ]\n",
    "print(l1, l2)"
   ]
  },
  {
   "cell_type": "markdown",
   "id": "1399b415",
   "metadata": {},
   "source": [
    "* with the object constructor `list()`"
   ]
  },
  {
   "cell_type": "code",
   "execution_count": null,
   "id": "cbcc9686",
   "metadata": {},
   "outputs": [],
   "source": [
    "empty_list = list()\n",
    "print(\"empty_list:\", empty_list)\n",
    "list_from_range = list(range(10))\n",
    "print(\"list_from_range:\", list_from_range)\n",
    "list_from_string = list(\"hello world\")\n",
    "print(\"list_from_string:\", list_from_string)"
   ]
  },
  {
   "cell_type": "markdown",
   "id": "aa1794a1",
   "metadata": {},
   "source": [
    "### Indexing\n",
    "\n",
    "* from `0` to `N-1` (where `N` is the **number of elements** in the list)\n",
    "* Can be done in both directions:"
   ]
  },
  {
   "cell_type": "code",
   "execution_count": null,
   "id": "44a08b73",
   "metadata": {},
   "outputs": [],
   "source": [
    "l2[0], l2[-1]"
   ]
  },
  {
   "cell_type": "markdown",
   "id": "ac2b1ddd",
   "metadata": {},
   "source": [
    "### Appending\n",
    "\n",
    "We can either use the `+=` operator"
   ]
  },
  {
   "cell_type": "code",
   "execution_count": null,
   "id": "3c590e90",
   "metadata": {},
   "outputs": [],
   "source": [
    "l1 += [True] # Notice that we need to put brackets around the value we want to append\n",
    "print(l1)"
   ]
  },
  {
   "cell_type": "code",
   "execution_count": null,
   "id": "e0021b86",
   "metadata": {},
   "outputs": [],
   "source": [
    "l1 += 7 # error"
   ]
  },
  {
   "cell_type": "markdown",
   "id": "dd7810c7",
   "metadata": {},
   "source": [
    "Or we can use the class-method ``append``"
   ]
  },
  {
   "cell_type": "code",
   "execution_count": null,
   "id": "827e17de",
   "metadata": {},
   "outputs": [],
   "source": [
    "l1.append(7)\n",
    "print(l1)"
   ]
  },
  {
   "cell_type": "code",
   "execution_count": null,
   "id": "6175c7fe",
   "metadata": {},
   "outputs": [],
   "source": [
    "l1.append([8,9,10])\n",
    "print(l1)"
   ]
  },
  {
   "cell_type": "markdown",
   "id": "0d660a87",
   "metadata": {},
   "source": [
    "### Slicing\n",
    " - `list[start:stop:step]` note that `[start:stop)`\n",
    " - if omitted `start==0`\n",
    " - if `stop` is omitted means till last element **included**\n",
    " - if omitetted `step==1`"
   ]
  },
  {
   "cell_type": "code",
   "execution_count": null,
   "id": "ec7eec06",
   "metadata": {},
   "outputs": [],
   "source": [
    "print(list_from_range[0:3:1]) # print first 3 elements\n",
    "print(list_from_range[:3])\n",
    "print(list_from_range[:-1]) # last element is excluded (because of the [start:stop) logic, see above)\n",
    "print(list_from_range[:])"
   ]
  },
  {
   "cell_type": "markdown",
   "id": "7c658bb7",
   "metadata": {},
   "source": [
    "### len\n",
    " - the size of a list is returned by the `len` command\n"
   ]
  },
  {
   "cell_type": "code",
   "execution_count": null,
   "id": "c0305f02",
   "metadata": {},
   "outputs": [],
   "source": [
    "print(len(list_from_range))"
   ]
  },
  {
   "cell_type": "markdown",
   "id": "d210156a",
   "metadata": {},
   "source": [
    "### \\+ and \\*\n",
    " - they always return new objects\n",
    " - if you want to modify in place use the augmented assignments `+=`, `*=`,...\n",
    " "
   ]
  },
  {
   "cell_type": "code",
   "execution_count": null,
   "id": "f94dd270",
   "metadata": {},
   "outputs": [],
   "source": [
    "print(list_from_range + list_from_string)\n",
    "print(list_from_range)\n",
    "\n",
    "print(l2*3)\n",
    "print(l2)"
   ]
  },
  {
   "cell_type": "markdown",
   "id": "c791c910",
   "metadata": {},
   "source": [
    "### Pay attention to lists of lists"
   ]
  },
  {
   "cell_type": "code",
   "execution_count": null,
   "id": "6a7f6fbe",
   "metadata": {},
   "outputs": [],
   "source": [
    "board = [['_']*3]*3\n",
    "print(board)"
   ]
  },
  {
   "cell_type": "code",
   "execution_count": null,
   "id": "d901bfed",
   "metadata": {},
   "outputs": [],
   "source": [
    "board[1][1] = 'X'\n",
    "print(board)"
   ]
  },
  {
   "cell_type": "code",
   "execution_count": null,
   "id": "e765d2c4",
   "metadata": {},
   "outputs": [],
   "source": [
    "[id(_l) for _l in board]"
   ]
  },
  {
   "cell_type": "markdown",
   "id": "7c641ab2",
   "metadata": {},
   "source": [
    "AH! error!!\n",
    "\n",
    "Python decided to copy the inner-most list by value, while the outer by reference: therefore when changing one element in the innermost it is replicated everywhere."
   ]
  },
  {
   "cell_type": "markdown",
   "id": "bfa6b2bc",
   "metadata": {},
   "source": [
    "### List comprehensions (aka listcomps)\n",
    " - more readable\n",
    " - inside `[ ]` indentation does not matter and new lines are allowed\n",
    " - in general comprehensions are also faster\n",
    " - indentation are not important within comprehensions"
   ]
  },
  {
   "cell_type": "code",
   "execution_count": null,
   "id": "25a89ad8",
   "metadata": {},
   "outputs": [],
   "source": [
    "board = [['_']*3 for i in range(3)]\n",
    "print(board)\n",
    "board[1][1] = 'X'\n",
    "print(board)"
   ]
  },
  {
   "cell_type": "code",
   "execution_count": null,
   "id": "2497941c",
   "metadata": {},
   "outputs": [],
   "source": [
    "odd_numbers = [n for n in range(20) if n%2]\n",
    "print (\"odd_numbers\",odd_numbers)\n",
    "even_numbers = [n for n in range(20) if not n%2]\n",
    "print(\"even_numbers\",even_numbers)"
   ]
  },
  {
   "cell_type": "code",
   "execution_count": null,
   "id": "9a10266f",
   "metadata": {},
   "outputs": [],
   "source": [
    "numbers = [n if n%2 else n+1 for n in range(20)]"
   ]
  },
  {
   "cell_type": "code",
   "execution_count": null,
   "id": "b76b1105",
   "metadata": {},
   "outputs": [],
   "source": [
    "numbers"
   ]
  },
  {
   "cell_type": "markdown",
   "id": "756ba910",
   "metadata": {},
   "source": [
    "### `sort` vs. `sorted`\n",
    " - `sorted` returns **new object** \n",
    " - `sort` does it **in place**"
   ]
  },
  {
   "cell_type": "code",
   "execution_count": null,
   "id": "aae7ac7f",
   "metadata": {},
   "outputs": [],
   "source": [
    "l = [5,10,1,4,2]\n",
    "print(\"sorted(l)\",sorted(l))\n",
    "print(\"l\",l)\n",
    "l.sort()\n",
    "print(\"l after l.sort()\", l)"
   ]
  },
  {
   "cell_type": "code",
   "execution_count": null,
   "id": "d2f4bdde",
   "metadata": {},
   "outputs": [],
   "source": [
    "l == sorted(l)"
   ]
  },
  {
   "cell_type": "markdown",
   "id": "61ffd72a",
   "metadata": {},
   "source": [
    "### delete items"
   ]
  },
  {
   "cell_type": "code",
   "execution_count": null,
   "id": "c861fe43",
   "metadata": {},
   "outputs": [],
   "source": [
    "l = list(range(5))\n",
    "print(\"l =\",l)"
   ]
  },
  {
   "cell_type": "markdown",
   "id": "cd7a85e0",
   "metadata": {},
   "source": [
    "- `del list[idx]` remove element with offset `idx`. `del` is a **Python statement**"
   ]
  },
  {
   "cell_type": "code",
   "execution_count": null,
   "id": "3c203ea7",
   "metadata": {},
   "outputs": [],
   "source": [
    "del l[1] # delete second element\n",
    "print(\"l =\",l)"
   ]
  },
  {
   "cell_type": "markdown",
   "id": "713d4f0f",
   "metadata": {},
   "source": [
    "- `list.pop[idx]` remove element with offset `idx` and return it (is a **function**)"
   ]
  },
  {
   "cell_type": "code",
   "execution_count": null,
   "id": "28aaa22c",
   "metadata": {},
   "outputs": [],
   "source": [
    "a = l.pop(-1) # pop last element and stores that element in some variable a \n",
    "              # (guess also means that if you do not specify the variable it will be stored in '_')\n",
    "print(\"l =\", l)\n",
    "print(\"a =\",a)"
   ]
  },
  {
   "cell_type": "markdown",
   "id": "03d74f2d",
   "metadata": {},
   "source": [
    "- `list.remove(val)` remove element whose value is val (and if there are more than one? read doc **RTFM**)"
   ]
  },
  {
   "cell_type": "code",
   "execution_count": null,
   "id": "4aabef7e",
   "metadata": {},
   "outputs": [],
   "source": [
    "l.remove(2)\n",
    "print(\"l =\",l)"
   ]
  },
  {
   "cell_type": "code",
   "execution_count": null,
   "id": "5bca9009",
   "metadata": {},
   "outputs": [],
   "source": [
    "help(l.remove)"
   ]
  },
  {
   "cell_type": "markdown",
   "id": "f06c3aff",
   "metadata": {},
   "source": [
    "### Final notes on lists:\n",
    "\n",
    "* **STRINGS** in Python are implemented as lists of characters, therefore you can do on strings all the operations that can be done on lists (append, iterate, indexing, ..)\n",
    "* Lists are not **memory efficient** (differently to ``numpy.ndarray`` that we will see in next lectures)\n",
    "* An incomplete table of operations that can be done on lists\n",
    "\n",
    "| Operation | Result |\n",
    "|-----------|--------|\n",
    "| `x in test_list` | `True` if an item of `test_list` is equal to `x`, else `False` |\n",
    "| `x not in test_list` | `False` if an item of `test_list` is equal to `x`, else `True` |\n",
    "| `test_list_1 + test_list_2` | returns a new list which is the concatenation of `test_list_1` and `test_list_2` |\n",
    "| `test_list * n` or `n * test_list` |  equivalent to adding `test_list` to itself `n` times |\n",
    "| `test_list[i]` | returns the i-th item of `test_list`, starting the counting from 0 |\n",
    "| `test_list[i:j]` | returns a sub-list, called *slice*, containing the elements of `test_list` from `i` to `j` |\n",
    "| `test_list[i:j:k]` | returns a sub-list containing the elements of `test_list` from `i` to `j` with step `k` |\n",
    "| `len(test_list)` | returns number of elements contained in `test_list` |\n",
    "| `min(test_list)` | returns smallest item of `test_list` |\n",
    "| `max(test_list)` | returns the largest item of `s` |\n",
    "| `test_list.index(x)` | returns the index of the first occurrence of `x` in `test_list` |\n",
    "| `test_list.index(x, i, j)` | returns the index of the first occurrence of `x` in `test_list`, at or after index `i` and before index `j` |\n",
    "|`test_list.count(x)` | counts the total number of occurrences of `x` in `test_list` |"
   ]
  },
  {
   "cell_type": "markdown",
   "id": "e5bae88b",
   "metadata": {},
   "source": [
    "## Section 2.2 - Tuples\n",
    "\n",
    "- immutables, once they have been created you cannot change them, meaning that you cannot:\n",
    "- cannot add, remove, change objects once created\n",
    "- slicing\n",
    "\n",
    "But you can change a variable that is formerly been gave as the name of a tuple."
   ]
  },
  {
   "cell_type": "code",
   "execution_count": null,
   "id": "0b353d2a",
   "metadata": {},
   "outputs": [],
   "source": [
    "empty_tuple = ()  # or empty_tuple = tuple()\n",
    "t = tuple(range(10))\n",
    "print(t[0::2])\n",
    "t = tuple(\"string\")\n",
    "print(t)"
   ]
  },
  {
   "cell_type": "code",
   "execution_count": null,
   "id": "f5749512",
   "metadata": {},
   "outputs": [],
   "source": [
    "t[0] = 5 # error"
   ]
  },
  {
   "cell_type": "markdown",
   "id": "168ecce8",
   "metadata": {},
   "source": [
    "### tuple packing"
   ]
  },
  {
   "cell_type": "code",
   "execution_count": null,
   "id": "a2aaee28",
   "metadata": {},
   "outputs": [],
   "source": [
    "a = 'first'\n",
    "b = 'second'\n",
    "t = a,b\n",
    "print(t)"
   ]
  },
  {
   "cell_type": "markdown",
   "id": "e024f877",
   "metadata": {},
   "source": [
    "### tuple unpacking"
   ]
  },
  {
   "cell_type": "code",
   "execution_count": null,
   "id": "ddfebbf2",
   "metadata": {},
   "outputs": [],
   "source": [
    "t = a,b # tuple packing\n",
    "f,s = t # tuple unpacking"
   ]
  },
  {
   "cell_type": "code",
   "execution_count": null,
   "id": "afaa925d",
   "metadata": {},
   "outputs": [],
   "source": [
    "f, s"
   ]
  },
  {
   "cell_type": "markdown",
   "id": "385a037e",
   "metadata": {},
   "source": [
    "to deal with the remainder when unpacking, you should use `*`"
   ]
  },
  {
   "cell_type": "code",
   "execution_count": null,
   "id": "b00280e3",
   "metadata": {},
   "outputs": [],
   "source": [
    "f,s, *_ = t     # discard the rest\n",
    "f,s, *rest = t  # save the rest to variable 'rest'\n",
    "print(\"f:\", f, \"\\ns:\", s)"
   ]
  },
  {
   "cell_type": "code",
   "execution_count": null,
   "id": "c97204bb",
   "metadata": {},
   "outputs": [],
   "source": [
    "colors = ('black', 'white')\n",
    "players = ('me', 'you','other')\n",
    "\n",
    "tournament=[(p,c) for p in players for c in colors ]\n",
    "print(tournament)"
   ]
  },
  {
   "cell_type": "markdown",
   "id": "dc5c8884",
   "metadata": {},
   "source": [
    "it is equivalent to this:\n",
    "```python\n",
    "tournament = []\n",
    "for p in players :\n",
    "    for c in colors :\n",
    "        tournament += [(p,c)]\n",
    "```"
   ]
  },
  {
   "cell_type": "markdown",
   "id": "7458a1f3",
   "metadata": {},
   "source": [
    "### how to ignore elements when unpacking\n"
   ]
  },
  {
   "cell_type": "markdown",
   "id": "bb3690af",
   "metadata": {},
   "source": [
    "When **unpacking** you always have to provide the correct number of `lvalues` (even though in python there isn't something as `rvalues` and `lvalues`), so if you want to discard something:"
   ]
  },
  {
   "cell_type": "code",
   "execution_count": null,
   "id": "1ee05889",
   "metadata": {},
   "outputs": [],
   "source": [
    "t = ('important', 'nothing', 'very important', 'forget it')\n",
    "imp,_,vip,_ = t\n",
    "print('imp:', imp, '\\nvip:', vip)"
   ]
  },
  {
   "cell_type": "markdown",
   "id": "3ffc968c",
   "metadata": {},
   "source": [
    "### nested tuples "
   ]
  },
  {
   "cell_type": "code",
   "execution_count": null,
   "id": "c8654e1f",
   "metadata": {},
   "outputs": [],
   "source": [
    "cities = [('Tokyo', 'JP', 'un', 'important', 'fields',(35.689,139.692)),\n",
    "          ('San Paulo', 'BR','not', 'relevant', 'fields',(-23.547,-46.6358))]\n",
    "\n",
    "for city, *_, (latitude, longitude) in cities:\n",
    "    print(city, latitude, longitude)"
   ]
  },
  {
   "cell_type": "markdown",
   "id": "f18bf5d9",
   "metadata": {},
   "source": [
    "### how to swap two objects"
   ]
  },
  {
   "cell_type": "markdown",
   "id": "9db9e0b0",
   "metadata": {},
   "source": [
    "pythonic way of swapping 2 numbers is by the couple of python packing and unpacking:"
   ]
  },
  {
   "cell_type": "code",
   "execution_count": null,
   "id": "e7daed24",
   "metadata": {},
   "outputs": [],
   "source": [
    "a = 1\n",
    "b = 2\n",
    "print(a,b)\n",
    "\n",
    "a,b = b,a\n",
    "\n",
    "print(a,b)"
   ]
  },
  {
   "cell_type": "markdown",
   "id": "fd40d701",
   "metadata": {},
   "source": [
    "### subtle bugs"
   ]
  },
  {
   "cell_type": "code",
   "execution_count": null,
   "id": "81b2ef35",
   "metadata": {},
   "outputs": [],
   "source": [
    "t = (1,2, [3,4])\n",
    "print(t)\n",
    "t[-1] += [5,6]"
   ]
  },
  {
   "cell_type": "code",
   "execution_count": null,
   "id": "947a4606",
   "metadata": {},
   "outputs": [],
   "source": [
    "print(t)"
   ]
  },
  {
   "cell_type": "markdown",
   "id": "87794848",
   "metadata": {},
   "source": [
    "This because things happen at run-time, what happened here was\n",
    "1. the list `[5,6]` has been appended to the tuple's last object\n",
    "2. the interpreter forbidden to assign the new value to the tuple\n",
    "\n",
    "but since a list is a **MUTABLE** object, it had been changed in-place."
   ]
  },
  {
   "cell_type": "markdown",
   "id": "2ed4bcc9",
   "metadata": {},
   "source": [
    "### tuples vs lists\n",
    "- tuples are faster\n",
    "- tuples occupy less memory"
   ]
  },
  {
   "cell_type": "code",
   "execution_count": null,
   "id": "1b3828bc",
   "metadata": {},
   "outputs": [],
   "source": [
    "%timeit l = [0,1,2,3,4,5,6,7,8,9]\n",
    "%timeit t = (0,1,2,3,4,5,6,7,8,9)"
   ]
  },
  {
   "cell_type": "markdown",
   "id": "69383e8d",
   "metadata": {},
   "source": [
    "## Section 2.3 - Dictionaries (hash tables) aka `dict`s\n",
    "\n",
    " - **unordered** set of pairs `key:value`\n",
    " - elements are accessed by `key` and not by offset (like lists and tuples)\n",
    " - `key` must be **hashable** (aka immutable) (e.g., boolean, integer, float, tuple, string, **not list**)\n",
    " - are mutable, so you can add, delete and change their `key:value` elements\n",
    " - highly optimized"
   ]
  },
  {
   "cell_type": "code",
   "execution_count": null,
   "id": "403f0405",
   "metadata": {},
   "outputs": [],
   "source": [
    "empty_dict = {} # or empty_dict = dict()\n",
    "print(type(empty_dict))"
   ]
  },
  {
   "cell_type": "code",
   "execution_count": null,
   "id": "225c5dcd",
   "metadata": {},
   "outputs": [],
   "source": [
    "fridge_dict = {\n",
    "    \"Eggs\" : 6,\n",
    "    \"Yogurt\" : 4,\n",
    "    \"Tofu\": 2,\n",
    "    \"Vegetables\": {'celeriac' : 0.5, 'onions' : 2, 'cherry_tomatoes' : 42}}\n",
    "print(fridge_dict)"
   ]
  },
  {
   "cell_type": "markdown",
   "id": "d2039b3e",
   "metadata": {},
   "source": [
    "### can be constructed in many ways\n",
    "\n",
    "* from list of tuples"
   ]
  },
  {
   "cell_type": "code",
   "execution_count": null,
   "id": "0687d910",
   "metadata": {},
   "outputs": [],
   "source": [
    "list(fridge_dict.items())"
   ]
  },
  {
   "cell_type": "code",
   "execution_count": null,
   "id": "41bcfd5a",
   "metadata": {},
   "outputs": [],
   "source": [
    "lot = [\n",
    "    ('Eggs', 6),\n",
    "    ('Yogurt', 4),\n",
    "    ('Tofu', 2),\n",
    "    ('Vegetables', {'celeriac': 0.5, 'onions': 2, 'cherry_tomatoes': 42})\n",
    "]\n",
    "fridge_dict = dict(lot)\n",
    "print(fridge_dict)"
   ]
  },
  {
   "cell_type": "markdown",
   "id": "51639d0f",
   "metadata": {},
   "source": [
    "* from tuples of 2-element lists"
   ]
  },
  {
   "cell_type": "code",
   "execution_count": null,
   "id": "f68aaef0",
   "metadata": {},
   "outputs": [],
   "source": [
    "tuple( list(t) for t in lot )"
   ]
  },
  {
   "cell_type": "code",
   "execution_count": null,
   "id": "b274d354",
   "metadata": {},
   "outputs": [],
   "source": [
    "tol = (\n",
    "    ['Eggs', 6],\n",
    "    ['Yogurt', 4],\n",
    "    ['Tofu', 2],\n",
    "    ['Vegetables', {'celeriac': 0.5, 'onions': 2, 'cherry_tomatoes': 42}]\n",
    ")\n",
    "fridge_dict = dict(tol)\n",
    "print(fridge_dict)"
   ]
  },
  {
   "cell_type": "markdown",
   "id": "d4a40fa6",
   "metadata": {},
   "source": [
    "* dictionaries comprehensions"
   ]
  },
  {
   "cell_type": "code",
   "execution_count": null,
   "id": "907a4862",
   "metadata": {},
   "outputs": [],
   "source": [
    "list(fridge_dict.keys()), list(fridge_dict.values())"
   ]
  },
  {
   "cell_type": "code",
   "execution_count": null,
   "id": "61d5eb72",
   "metadata": {},
   "outputs": [],
   "source": []
  },
  {
   "cell_type": "code",
   "execution_count": null,
   "id": "d7349f00",
   "metadata": {},
   "outputs": [],
   "source": [
    "foods = ['Eggs', 'Yogurt', 'Tofu', 'Vegetables']\n",
    "amounts = [6, 4, 2, {'celeriac': 0.5, 'onions': 2, 'cherry_tomatoes': 42}]\n",
    "fridge_dict = {k:v for k,v in zip(foods,amounts)}\n",
    "print(fridge_dict)"
   ]
  },
  {
   "cell_type": "markdown",
   "id": "5674ebd3",
   "metadata": {},
   "source": [
    "`zip` takes two containers and associates them in touples of 2 elements, element-by-element, (note that if the two containers have different sizes, it will stop when the first one ends).\n"
   ]
  },
  {
   "cell_type": "markdown",
   "id": "e11cb0ba",
   "metadata": {},
   "source": [
    "### Retrieve an element by `key`\n"
   ]
  },
  {
   "cell_type": "code",
   "execution_count": null,
   "id": "12e56337",
   "metadata": {},
   "outputs": [],
   "source": [
    "print(\"Number of Eggs\", fridge_dict['Eggs'])\n",
    "fridge_dict['Eggs'] -= 1\n",
    "print(\"Number of Eggs\", fridge_dict['Eggs'])"
   ]
  },
  {
   "cell_type": "markdown",
   "id": "568f224a",
   "metadata": {},
   "source": [
    "not that by-default you cannot access a non-existing element:"
   ]
  },
  {
   "cell_type": "code",
   "execution_count": null,
   "id": "c64637fc",
   "metadata": {},
   "outputs": [],
   "source": [
    "print(fridge_dict[\"not in dict\"]) # error"
   ]
  },
  {
   "cell_type": "markdown",
   "id": "2f38ceee",
   "metadata": {},
   "source": [
    "### better use `get` if a key can be not present"
   ]
  },
  {
   "cell_type": "code",
   "execution_count": null,
   "id": "533a24fd",
   "metadata": {},
   "outputs": [],
   "source": [
    "print(fridge_dict.get(\"not in dict\", -1))"
   ]
  },
  {
   "cell_type": "markdown",
   "id": "977fd53b",
   "metadata": {},
   "source": [
    "### can add new keys with the `[ ]` operator"
   ]
  },
  {
   "cell_type": "code",
   "execution_count": null,
   "id": "5d050cfc",
   "metadata": {},
   "outputs": [],
   "source": [
    "fridge_dict[\"Mozzarella\"] = 55"
   ]
  },
  {
   "cell_type": "code",
   "execution_count": null,
   "id": "9b090472",
   "metadata": {},
   "outputs": [],
   "source": [
    "print(fridge_dict)"
   ]
  },
  {
   "cell_type": "markdown",
   "id": "9a47389e",
   "metadata": {},
   "source": [
    "### check if a key is (is not in dict)\n"
   ]
  },
  {
   "cell_type": "code",
   "execution_count": null,
   "id": "81a3d42c",
   "metadata": {},
   "outputs": [],
   "source": [
    "print(\"Eggs\" in fridge_dict)\n",
    "print(\"Unknown\" in fridge_dict)\n",
    "print(\"Unknown\" not in fridge_dict)"
   ]
  },
  {
   "cell_type": "markdown",
   "id": "c0ec9a2b",
   "metadata": {},
   "source": [
    "### quick look at the methods"
   ]
  },
  {
   "cell_type": "code",
   "execution_count": null,
   "id": "b0c2b9ad",
   "metadata": {},
   "outputs": [],
   "source": [
    "print(dir(fridge_dict))"
   ]
  },
  {
   "cell_type": "markdown",
   "id": "f7ea224c",
   "metadata": {},
   "source": [
    "#### loop over keys and/or values\n"
   ]
  },
  {
   "cell_type": "code",
   "execution_count": null,
   "id": "b45f45a2",
   "metadata": {},
   "outputs": [],
   "source": [
    "for k in fridge_dict.keys():\n",
    "    print (k)\n",
    "    \n",
    "for v in fridge_dict.values():\n",
    "    print (v)\n",
    "    \n",
    "for it in fridge_dict.items():\n",
    "    print(it)"
   ]
  },
  {
   "cell_type": "markdown",
   "id": "ab35e11e",
   "metadata": {},
   "source": [
    "### delete with `del` statement"
   ]
  },
  {
   "cell_type": "code",
   "execution_count": null,
   "id": "be24a7b8",
   "metadata": {},
   "outputs": [],
   "source": [
    "del fridge_dict[\"Eggs\"]\n",
    "print(fridge_dict)"
   ]
  },
  {
   "cell_type": "markdown",
   "id": "c69f1616",
   "metadata": {},
   "source": [
    "### delete with the ``pop`` class method"
   ]
  },
  {
   "cell_type": "code",
   "execution_count": null,
   "id": "69c1ae01",
   "metadata": {},
   "outputs": [],
   "source": [
    "vegetables = fridge_dict.pop('Vegetables')\n",
    "print(fridge_dict)"
   ]
  },
  {
   "cell_type": "code",
   "execution_count": null,
   "id": "7a0844c7",
   "metadata": {},
   "outputs": [],
   "source": [
    "vegetables"
   ]
  },
  {
   "cell_type": "markdown",
   "id": "38af00e6",
   "metadata": {},
   "source": [
    "## Section 2.4 - `set`s\n",
    "\n",
    "- like `dict`s but without values (they are **unordered**)\n",
    "- used to know if something exists (is present) avoiding repetitions\n",
    "- optimized for mathematical set operations (union, intersect, difference)"
   ]
  },
  {
   "cell_type": "code",
   "execution_count": null,
   "id": "a3f86f45",
   "metadata": {},
   "outputs": [],
   "source": [
    "empty_set = set() # cannot use `{}` no other symbols can be used for an empty set\n",
    "even_numbers = {0,2,4,6,8,10} # but if you do not give a value ':' to the keys of your dict, it is converted\n",
    "                              # in a set.\n",
    "print(type(even_numbers),even_numbers)"
   ]
  },
  {
   "cell_type": "code",
   "execution_count": null,
   "id": "567c9ba0",
   "metadata": {},
   "outputs": [],
   "source": [
    "even_numbers = {0,0,0,2,2,4,6,8,8,8,128}\n",
    "print(even_numbers)"
   ]
  },
  {
   "cell_type": "code",
   "execution_count": null,
   "id": "401e0243",
   "metadata": {},
   "outputs": [],
   "source": [
    "odd_numbers = {n for n in range(10) if n%2}\n",
    "print(odd_numbers, type(odd_numbers))"
   ]
  },
  {
   "cell_type": "code",
   "execution_count": null,
   "id": "8075499a",
   "metadata": {},
   "outputs": [],
   "source": [
    "2 in odd_numbers"
   ]
  },
  {
   "cell_type": "code",
   "execution_count": null,
   "id": "5a0da5ec",
   "metadata": {},
   "outputs": [],
   "source": [
    "2 in even_numbers"
   ]
  },
  {
   "cell_type": "markdown",
   "id": "d6d05215",
   "metadata": {},
   "source": [
    "### union"
   ]
  },
  {
   "cell_type": "markdown",
   "id": "ff7be095",
   "metadata": {},
   "source": [
    "As in mathematics:"
   ]
  },
  {
   "cell_type": "code",
   "execution_count": null,
   "id": "5491b148",
   "metadata": {},
   "outputs": [],
   "source": [
    "all_numbers = odd_numbers.union(even_numbers)\n",
    "print(all_numbers)\n",
    "all_numbers = odd_numbers | even_numbers\n",
    "print(all_numbers)"
   ]
  },
  {
   "cell_type": "markdown",
   "id": "fd7eaac6",
   "metadata": {},
   "source": [
    "### intersect"
   ]
  },
  {
   "cell_type": "code",
   "execution_count": null,
   "id": "03469d46",
   "metadata": {},
   "outputs": [],
   "source": [
    "empty = odd_numbers.intersection(even_numbers)\n",
    "print(empty)\n",
    "empty = odd_numbers & even_numbers"
   ]
  },
  {
   "cell_type": "markdown",
   "id": "44c64661",
   "metadata": {},
   "source": [
    "### difference"
   ]
  },
  {
   "cell_type": "code",
   "execution_count": null,
   "id": "7669c21e",
   "metadata": {},
   "outputs": [],
   "source": [
    "set1 = {1,2,3,4,5}\n",
    "set2 = {1,2,3}\n",
    "print(\"set1 - set2 -->\", set1-set2)\n",
    "print(\"set2 - set1 -->\", set2-set1)"
   ]
  }
 ],
 "metadata": {
  "kernelspec": {
   "display_name": "Python 3 (ipykernel)",
   "language": "python",
   "name": "python3"
  },
  "language_info": {
   "codemirror_mode": {
    "name": "ipython",
    "version": 3
   },
   "file_extension": ".py",
   "mimetype": "text/x-python",
   "name": "python",
   "nbconvert_exporter": "python",
   "pygments_lexer": "ipython3",
   "version": "3.10.10"
  }
 },
 "nbformat": 4,
 "nbformat_minor": 5
}
