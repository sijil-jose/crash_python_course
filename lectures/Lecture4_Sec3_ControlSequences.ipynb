{
 "cells": [
  {
   "cell_type": "markdown",
   "id": "854fa245",
   "metadata": {},
   "source": [
    "# Section 3 - Control Sequences\n",
    "\n",
    "Are present in every programming language, represent the building blocks of a program.\n",
    "\n",
    "They typically either represent the concept of condition or allow to execute an instruction multiple times."
   ]
  },
  {
   "cell_type": "markdown",
   "id": "16d7aca4",
   "metadata": {},
   "source": [
    "## Checking conditions: ``if``, ``elif``, ``else`` \n",
    "\n",
    "It is quite common in programming to let the program execute a set of commands only when a condition is met. This is possible in Python with the ``if`` statement."
   ]
  },
  {
   "cell_type": "code",
   "execution_count": null,
   "id": "53c81814",
   "metadata": {},
   "outputs": [],
   "source": [
    "a = 3\n",
    "if a > 0 :\n",
    "    print('a is positive')"
   ]
  },
  {
   "cell_type": "markdown",
   "id": "d984826e",
   "metadata": {},
   "source": [
    "> Remember indentation!\n",
    "\n",
    "A more complex set of conditions can be expressed with chains of ``if``, ``elif``, ``else``"
   ]
  },
  {
   "cell_type": "code",
   "execution_count": null,
   "id": "acf322cc",
   "metadata": {},
   "outputs": [],
   "source": [
    "if a > 0 :\n",
    "    print('a is positive')\n",
    "elif a < 0 :\n",
    "    print('a is negative')\n",
    "else :\n",
    "    print('a is zero')"
   ]
  },
  {
   "cell_type": "markdown",
   "id": "421a4559",
   "metadata": {},
   "source": [
    "## Loops\n",
    "\n",
    "* Repetitive operations can be executed by means of the for and while loops.\n",
    "\n",
    "### The ``for`` loop\n",
    "\n",
    "* The for loop executes the same set of instructions for all the elements of a list of objects"
   ]
  },
  {
   "cell_type": "code",
   "execution_count": null,
   "id": "e274bba7",
   "metadata": {},
   "outputs": [],
   "source": [
    "for elem in [0, 1, 'a', 'abc', 5.0] :\n",
    "    print(elem)"
   ]
  },
  {
   "cell_type": "markdown",
   "id": "73b87d6c",
   "metadata": {},
   "source": [
    "* The variable ``elem`` can be used within the loop and assumes, one by one, the value of each element present in the list\n",
    "\n",
    "* Loops over integer indices are usually performed using the ``range`` generator:"
   ]
  },
  {
   "cell_type": "raw",
   "id": "093a8e8d",
   "metadata": {},
   "source": [
    "range([start,]stop[,step])"
   ]
  },
  {
   "cell_type": "code",
   "execution_count": null,
   "id": "3326f7dc",
   "metadata": {},
   "outputs": [],
   "source": [
    "for i in range(3) :\n",
    "    print(f'iteration {i}')"
   ]
  },
  {
   "cell_type": "markdown",
   "id": "adadc55d",
   "metadata": {},
   "source": [
    "* As in the case of conditionals, instructions following a for statement shall be indented\n",
    "    * This allows, for example, to uniquely identify scopes in nested loops"
   ]
  },
  {
   "cell_type": "code",
   "execution_count": null,
   "id": "b5e8fc76",
   "metadata": {},
   "outputs": [],
   "source": [
    "for i in range (3):\n",
    "    print (f'before the internal loop in iteration {i}')  \n",
    "    for j in range (3):\n",
    "        number = 3 * i + j\n",
    "        print (number)\n",
    "    print ('end of internal loop')  "
   ]
  },
  {
   "cell_type": "markdown",
   "id": "10acfce9",
   "metadata": {},
   "source": [
    "### The ``while`` loop\n",
    "\n",
    "* executes a set of instructions **as long as some condition is true**"
   ]
  },
  {
   "cell_type": "code",
   "execution_count": null,
   "id": "45d74cf2",
   "metadata": {},
   "outputs": [],
   "source": [
    "i = 0\n",
    "while i < 6 :\n",
    "    print(i)\n",
    "    i += 1"
   ]
  },
  {
   "cell_type": "markdown",
   "id": "acdcf271",
   "metadata": {},
   "source": [
    "### Exeptional loop interruptions\n",
    "\n",
    "* Sometimes it is useful to alter the behaviour of loops independently of the conditions present in the for or while statements\n",
    "* The ``continue`` instruction interrupts the execution of the instructions in the scope and jumps to the following iteration"
   ]
  },
  {
   "cell_type": "code",
   "execution_count": null,
   "id": "9e5af685",
   "metadata": {},
   "outputs": [],
   "source": [
    "for i in range(10) :\n",
    "    if i%2 != 0 :\n",
    "        continue\n",
    "    print(i)"
   ]
  },
  {
   "cell_type": "markdown",
   "id": "03e7b9a5",
   "metadata": {},
   "source": [
    "* The ``break`` instruction interrupts the execution of the iteration and exits the loop"
   ]
  },
  {
   "cell_type": "code",
   "execution_count": null,
   "id": "e3699256",
   "metadata": {},
   "outputs": [],
   "source": [
    "for i in [0, 1, -2, 3, 4] :\n",
    "    if i < 0 :\n",
    "        print('no negative numbers!')\n",
    "        break\n",
    "    print(i)"
   ]
  },
  {
   "cell_type": "code",
   "execution_count": null,
   "id": "cd56eb8b",
   "metadata": {},
   "outputs": [],
   "source": [
    "i = 0\n",
    "while True :\n",
    "    print(i)\n",
    "    i += 1\n",
    "    if i > 3 :\n",
    "        break"
   ]
  },
  {
   "cell_type": "markdown",
   "id": "f64c925a",
   "metadata": {},
   "source": [
    "## Error Handling!\n",
    "\n",
    "Python handles errors with\n",
    "\n",
    "* **Exceptions**: if an exception is _raised_ the execution stops (or at least, **it should stop**)\n",
    "* **Warnings**: similar to exceptions but the execution is not supposed to stop\n",
    "\n",
    "A user can handle these errors in execution by means of ``try``-``except`` blocks"
   ]
  },
  {
   "cell_type": "code",
   "execution_count": null,
   "id": "38864163",
   "metadata": {},
   "outputs": [],
   "source": [
    "a = [1, 2, 3]\n",
    "try: \n",
    "    print (f\"Second element = {a[1]}\")\n",
    "    print (f\"Fourth element = {a[3]}\")\n",
    "except:\n",
    "    print (\"An error occurred\")"
   ]
  },
  {
   "cell_type": "markdown",
   "id": "a37a1378",
   "metadata": {},
   "source": [
    "You can also catch specific errors"
   ]
  },
  {
   "cell_type": "code",
   "execution_count": null,
   "id": "34b742cb",
   "metadata": {},
   "outputs": [],
   "source": [
    "a = 1\n",
    "b = [1,2,3,0]\n",
    "for i in b :\n",
    "    try:\n",
    "        print(a/i)\n",
    "    except ZeroDivisionError as er :\n",
    "        print( er )"
   ]
  },
  {
   "cell_type": "markdown",
   "id": "011b5748",
   "metadata": {},
   "source": [
    "The actual complete syntax is something like this\n",
    "\n",
    "```python\n",
    "try:\n",
    "    # Some Code.... \n",
    "except:\n",
    "    # optional block\n",
    "    # Handling of exception (if required)\n",
    "else:\n",
    "    # execute if no exception\n",
    "finally:\n",
    "    # Some code .....(always executed)\n",
    "```\n",
    "\n",
    "* the ``else``-block executes if no exception is catched\n",
    "* the ``finally``-block always executes"
   ]
  },
  {
   "cell_type": "code",
   "execution_count": null,
   "id": "13d9c348",
   "metadata": {},
   "outputs": [],
   "source": [
    "a = 5\n",
    "b = [ 1, 0, 3 ]\n",
    "c = None\n",
    "out = []\n",
    "for i, den in enumerate(b) :\n",
    "    try:\n",
    "        c = a//den\n",
    "    except ZeroDivisionError:\n",
    "        print(f\"Can't divide by zero on iteration #{i}\")\n",
    "    else :\n",
    "        out.append(c)\n",
    "    finally:\n",
    "        print(f'done iteration #{i}')"
   ]
  },
  {
   "cell_type": "code",
   "execution_count": null,
   "id": "755b3a4e",
   "metadata": {},
   "outputs": [],
   "source": [
    "out"
   ]
  }
 ],
 "metadata": {
  "kernelspec": {
   "display_name": "Python 3 (ipykernel)",
   "language": "python",
   "name": "python3"
  },
  "language_info": {
   "codemirror_mode": {
    "name": "ipython",
    "version": 3
   },
   "file_extension": ".py",
   "mimetype": "text/x-python",
   "name": "python",
   "nbconvert_exporter": "python",
   "pygments_lexer": "ipython3",
   "version": "3.10.10"
  }
 },
 "nbformat": 4,
 "nbformat_minor": 5
}
