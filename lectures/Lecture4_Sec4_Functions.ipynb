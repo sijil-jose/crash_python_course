{
 "cells": [
  {
   "cell_type": "markdown",
   "id": "631ade48",
   "metadata": {},
   "source": [
    "# Section 4 - Functions\n",
    "\n",
    "Functions are a set of grouped instructions which may be called together, that produce a given output or action\n",
    "\n",
    "* They are identified with a name and set of inputs\n",
    "* Functions are **FIRST-CLASS OBJECTS**, which means they can be\n",
    "    - created at runtime\n",
    "    - assigned to a variable or element in a data structure\n",
    "    - passed as an argument to a function\n",
    "    - returned as the result of a function\n",
    "* Functions have\n",
    "    - **POSITIONAL ARGUMENTS**, have to be provided in the right order, any starred and **ordered** iterable is OK.\n",
    "    - **KEYWORD ARGUMENTS**, are arguments **with a name** that identifies them. \n",
    "        Internally, keyword arguments are  treated as a dictionaries.\n",
    "\n",
    "A generic function, defined by the user will look something like this \n",
    "```python\n",
    "def function (*args, **kwargs) :\n",
    "    # do something with args\n",
    "    # do something with kwargs\n",
    "    # produce some result\n",
    "    return some_result\n",
    "```\n",
    "\n",
    "Main elements:\n",
    "\n",
    "- ``def`` tells the system what follows is a function definition\n",
    "- ``(*args, **kwargs)`` between parenteses the arguments of the function\n",
    "- ``:`` colon indicates where we start to define the behaviour\n",
    "- **indentated block** determines what is the function definition\n",
    "- (Optional) ``return`` values computed inside the function\n",
    "\n",
    "Let's make a function to check the behaviour of argumens:"
   ]
  },
  {
   "cell_type": "code",
   "execution_count": null,
   "id": "cc1e64f0",
   "metadata": {},
   "outputs": [],
   "source": [
    "def foo(*positional, **keywords):\n",
    "    print(\"Positional:\", positional, end='\\t')\n",
    "    print(\"Keywords:\", keywords)"
   ]
  },
  {
   "cell_type": "code",
   "execution_count": null,
   "id": "396a8d6f",
   "metadata": {},
   "outputs": [],
   "source": [
    "foo('1st', '2nd', '3rd')"
   ]
  },
  {
   "cell_type": "code",
   "execution_count": null,
   "id": "c702c8c9",
   "metadata": {},
   "outputs": [],
   "source": [
    "foo(par1='1st', par2='2nd', par3='3rd')"
   ]
  },
  {
   "cell_type": "code",
   "execution_count": null,
   "id": "24ebd811",
   "metadata": {},
   "outputs": [],
   "source": [
    "foo('1st', par2='2nd', par3='3rd')"
   ]
  },
  {
   "cell_type": "markdown",
   "id": "b94b73e0",
   "metadata": {},
   "source": [
    "As long as they are provided as a **starred ordered iterable**, positional arguments do not necessarily have to be passed first."
   ]
  },
  {
   "cell_type": "code",
   "execution_count": null,
   "id": "448cc61e",
   "metadata": {},
   "outputs": [],
   "source": [
    "foo(par1='1st_key',*('tuple','unpacking'), par2='2nd_key')"
   ]
  },
  {
   "cell_type": "code",
   "execution_count": null,
   "id": "d7b33c64",
   "metadata": {},
   "outputs": [],
   "source": [
    "foo(par1='1st_key',*['1st_pos'], par2='2nd_key',*['2st_pos','3rd_pos'])"
   ]
  },
  {
   "cell_type": "markdown",
   "id": "46d09973",
   "metadata": {},
   "source": [
    "But they have to be **_passed_ first** when defining a function: "
   ]
  },
  {
   "cell_type": "code",
   "execution_count": null,
   "id": "a5f97384",
   "metadata": {},
   "outputs": [],
   "source": [
    "def bar (**kwargs, *args):\n",
    "    print(\"Positional:\", positional, end='\\t')\n",
    "    print(\"Keywords:\", keywords)"
   ]
  },
  {
   "cell_type": "markdown",
   "id": "da081225",
   "metadata": {},
   "source": [
    "> **NOTE THAT**, even though not strictly necessary, it is **good practice** to pass ``args`` before ``kwargs``"
   ]
  },
  {
   "cell_type": "code",
   "execution_count": null,
   "id": "b0ac0942",
   "metadata": {},
   "outputs": [],
   "source": [
    "def hello():\n",
    "    print(\"hello\")\n",
    "    \n",
    "print(type(hello))\n",
    "\n",
    "a = hello\n",
    "a()"
   ]
  },
  {
   "cell_type": "markdown",
   "id": "e08a8aaf",
   "metadata": {},
   "source": [
    "### functions can use recursion"
   ]
  },
  {
   "cell_type": "code",
   "execution_count": null,
   "id": "0fad5a02",
   "metadata": {},
   "outputs": [],
   "source": [
    "def factorial(n):\n",
    "    return 1 if n<2 else n * factorial(n-1)\n",
    "\n",
    "factorial(77)"
   ]
  },
  {
   "cell_type": "markdown",
   "id": "9f6c97cf",
   "metadata": {},
   "source": [
    "### args name in functions can be used as `keyword`"
   ]
  },
  {
   "cell_type": "code",
   "execution_count": null,
   "id": "4f625695",
   "metadata": {},
   "outputs": [],
   "source": [
    "def abc(a,b,c):\n",
    "    for i in ('a','b','c'):\n",
    "        print(i,\"got\",eval(i))\n",
    "\n",
    "abc('to_a', 'to_b', 'to_c')"
   ]
  },
  {
   "cell_type": "code",
   "execution_count": null,
   "id": "0145edb8",
   "metadata": {},
   "outputs": [],
   "source": [
    "abc(b = 'to_b', c = 'to_c', a = 'to_a')"
   ]
  },
  {
   "cell_type": "markdown",
   "id": "2042d809",
   "metadata": {},
   "source": [
    "###  if you want keyord-only arguments, put a `*` in the signature"
   ]
  },
  {
   "cell_type": "code",
   "execution_count": null,
   "id": "0e91bd46",
   "metadata": {},
   "outputs": [],
   "source": [
    "def abc_keyword_only(*,a,b,c):\n",
    "    for i in ('a','b','c'):\n",
    "        print(i,\"got\",eval(i))\n",
    "\n",
    "#abc_keyword_only('to_a', 'to_b', 'to_c') # error\n",
    "abc_keyword_only(b = 'to_b', c = 'to_c', a = 'to_a')"
   ]
  },
  {
   "cell_type": "markdown",
   "id": "84f705f3",
   "metadata": {},
   "source": [
    "### default values"
   ]
  },
  {
   "cell_type": "code",
   "execution_count": null,
   "id": "95671df8",
   "metadata": {},
   "outputs": [],
   "source": [
    "def abc_with_default(a='default_a',\n",
    "                     b='default_b',\n",
    "                     c='default_c'):\n",
    "    abc(a,b,c)\n",
    "    \n",
    "abc_with_default(b = 'to_b')"
   ]
  },
  {
   "cell_type": "markdown",
   "id": "546a6728",
   "metadata": {},
   "source": [
    "### A couple of relevant built-in functions\n",
    "\n",
    "* ``print`` redirects the representation string of the positional arguments to the **STDOUT** (by default)"
   ]
  },
  {
   "cell_type": "code",
   "execution_count": null,
   "id": "3315d1a1",
   "metadata": {},
   "outputs": [],
   "source": [
    "answer=42\n",
    "print(f'The answer is {answer:d}', end='\\n\\n')"
   ]
  },
  {
   "cell_type": "code",
   "execution_count": null,
   "id": "f5b37fda",
   "metadata": {},
   "outputs": [],
   "source": [
    "import sys"
   ]
  },
  {
   "cell_type": "code",
   "execution_count": null,
   "id": "e6654f9c",
   "metadata": {},
   "outputs": [],
   "source": [
    "a = 1\n",
    "b = 0\n",
    "try :\n",
    "    c = a/b\n",
    "except :\n",
    "    print( 'error', file=sys.stderr)"
   ]
  },
  {
   "cell_type": "markdown",
   "id": "bee9e4d2",
   "metadata": {},
   "source": [
    "* ``input`` redirects the **STDIN** to some user defined variable"
   ]
  },
  {
   "cell_type": "code",
   "execution_count": null,
   "id": "91d94626",
   "metadata": {},
   "outputs": [],
   "source": [
    "question=input('What is the question? ')"
   ]
  },
  {
   "cell_type": "code",
   "execution_count": null,
   "id": "2709cbe4",
   "metadata": {},
   "outputs": [],
   "source": [
    "question"
   ]
  },
  {
   "cell_type": "code",
   "execution_count": null,
   "id": "db3182b2",
   "metadata": {},
   "outputs": [],
   "source": [
    "help(input)"
   ]
  },
  {
   "cell_type": "markdown",
   "id": "894213f6",
   "metadata": {},
   "source": [
    "> **NOTE** that every STDIN entry is interpreted AS A STRING, so you should cast it to the relevant type:"
   ]
  },
  {
   "cell_type": "code",
   "execution_count": null,
   "id": "3412963e",
   "metadata": {},
   "outputs": [],
   "source": [
    "type(question)"
   ]
  },
  {
   "cell_type": "code",
   "execution_count": null,
   "id": "51a89ba5",
   "metadata": {},
   "outputs": [],
   "source": [
    "answer=int(input('What is the answer?'))"
   ]
  },
  {
   "cell_type": "code",
   "execution_count": null,
   "id": "9a8d749f",
   "metadata": {},
   "outputs": [],
   "source": [
    "answer, type(answer)"
   ]
  },
  {
   "cell_type": "markdown",
   "id": "530d2a0d",
   "metadata": {},
   "source": [
    "## Documentation is mandatory.\n",
    "\n",
    "Since in the Python language the information is implicit (as the type of the variables), special care has to be put in documenting the source code: explain what is the purpose of the function in a concise way and describe the arguments with their type, as well the expected result type.\n",
    "\n",
    "* **docstring**, the documentation string, should provide informations on usage, input arguments, and returned values\n",
    "* **annotation**, modifies the signature of a function, providing relevant information\n",
    "\n",
    "```python\n",
    "def foo () :\n",
    "    \"\"\"string documenting foo(). \n",
    "    accessible via help(foo)\n",
    "    \"\"\"\n",
    "    pass\n",
    "help(foo)\n",
    "```\n",
    "\n",
    "will produce the following output\n",
    "\n",
    "```\n",
    "Help on function foo in module __main__: \n",
    "\n",
    "foo()\n",
    "    string documenting foo(). \n",
    "    accessible via help(foo)\n",
    "```\n",
    "where ``foo()`` is the function **SIGNATURE**, and what follows is the **DOCUMENTATION**"
   ]
  },
  {
   "cell_type": "markdown",
   "id": "a765a52b",
   "metadata": {},
   "source": [
    "### docstring\n",
    "\n",
    "[Different possible styles exist](http://daouzli.com/blog/docstring.html), choose the one you like\n",
    "\n",
    "**BUT YOU SHOULD BE CONSISTENT**"
   ]
  },
  {
   "cell_type": "code",
   "execution_count": null,
   "id": "33b9799f",
   "metadata": {},
   "outputs": [],
   "source": [
    "def squared ( x ):\n",
    "    \"\"\"Calculates the square of a number\n",
    "    \n",
    "    Parameters\n",
    "    ----------\n",
    "    x : float\n",
    "        a number\n",
    "        \n",
    "    Returns\n",
    "    -------\n",
    "    : float\n",
    "        the square of x\n",
    "    \"\"\"\n",
    "    return x*x\n",
    "\n",
    "help(squared)"
   ]
  },
  {
   "cell_type": "markdown",
   "id": "956f70f1",
   "metadata": {},
   "source": [
    "### function annotations\n",
    "\n",
    "Modify the signature of the function providing informations on the input and output types."
   ]
  },
  {
   "cell_type": "code",
   "execution_count": null,
   "id": "9dd70cf2",
   "metadata": {},
   "outputs": [],
   "source": [
    "def complicated_function(text:str, max_len:'int>0'=80) -> str:\n",
    "    '''documentation for complicated_function'''\n",
    "    pass"
   ]
  },
  {
   "cell_type": "code",
   "execution_count": null,
   "id": "4eff889b",
   "metadata": {},
   "outputs": [],
   "source": [
    "help(complicated_function)"
   ]
  },
  {
   "cell_type": "markdown",
   "id": "00668779",
   "metadata": {},
   "source": [
    "> **NOTE** that this is not fail-proof: it's for humans not for machines. "
   ]
  },
  {
   "cell_type": "code",
   "execution_count": null,
   "id": "2cd3ad42",
   "metadata": {},
   "outputs": [],
   "source": [
    "from math import sqrt"
   ]
  },
  {
   "cell_type": "code",
   "execution_count": null,
   "id": "29ba82c9",
   "metadata": {},
   "outputs": [],
   "source": [
    "sqrt(-2)"
   ]
  },
  {
   "cell_type": "code",
   "execution_count": null,
   "id": "b211db9a",
   "metadata": {},
   "outputs": [],
   "source": [
    "def buggy_sqrt_safe( x : 'float>0.0' ) -> float:\n",
    "    from math import sqrt\n",
    "    return sqrt(x)"
   ]
  },
  {
   "cell_type": "code",
   "execution_count": null,
   "id": "7a57d846",
   "metadata": {},
   "outputs": [],
   "source": [
    "sqrt_safe(-2)"
   ]
  },
  {
   "cell_type": "code",
   "execution_count": null,
   "id": "e4e075b6",
   "metadata": {},
   "outputs": [],
   "source": [
    "def sqrt_safe(x) -> float:\n",
    "    from math import sqrt\n",
    "    if x < 0.0 :\n",
    "        return sqrt(-x) * 1j\n",
    "    else :\n",
    "        return sqrt(x)"
   ]
  },
  {
   "cell_type": "code",
   "execution_count": null,
   "id": "9b5c284f",
   "metadata": {},
   "outputs": [],
   "source": [
    "sqrt_safe(-2)"
   ]
  },
  {
   "cell_type": "code",
   "execution_count": null,
   "id": "be4c5dcb",
   "metadata": {},
   "outputs": [],
   "source": [
    "def sqrt_safe_v2 (x : 'float>0.0') -> float:\n",
    "    from math import sqrt\n",
    "    from numpy import nan\n",
    "    res = None\n",
    "    try :\n",
    "        res = sqrt(x)\n",
    "    except :\n",
    "        res = None\n",
    "    return res"
   ]
  },
  {
   "cell_type": "code",
   "execution_count": null,
   "id": "d8ecc5f1",
   "metadata": {},
   "outputs": [],
   "source": [
    "sqrt_safe_v2(-2)"
   ]
  }
 ],
 "metadata": {
  "kernelspec": {
   "display_name": "Python 3 (ipykernel)",
   "language": "python",
   "name": "python3"
  },
  "language_info": {
   "codemirror_mode": {
    "name": "ipython",
    "version": 3
   },
   "file_extension": ".py",
   "mimetype": "text/x-python",
   "name": "python",
   "nbconvert_exporter": "python",
   "pygments_lexer": "ipython3",
   "version": "3.10.10"
  }
 },
 "nbformat": 4,
 "nbformat_minor": 5
}
